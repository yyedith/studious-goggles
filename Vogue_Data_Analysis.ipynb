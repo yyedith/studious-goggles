{
 "cells": [
  {
   "cell_type": "markdown",
   "id": "a689c462",
   "metadata": {},
   "source": [
    "# Analyzing Vogue Channel Statistics\n",
    "\n",
    "## Introduction\n",
    "\n",
    "Online platforms have played a significant role in shaping trends and influencing consumer choices. Among these platforms, YouTube has emerged as a powerful tool for fashion creators to showcase their talent, share style tips, and build an audience. In this project, we delve into the world of fashion by analyzing the channel statistics of Vogue, one of the most renowned fashion publications.\n",
    "\n",
    "## Objective\n",
    "By examining various metrics and data related to Vogue's YouTube channel, we aim to uncover patterns, trends, and key factors contributing to their online success. For this, we will be using YouTube API to retrieve channel statistics for different Vogue channels across the world. \n",
    "\n",
    "## Data Extraction\n",
    "\n",
    "The first step to retrieve the data from the various Vogue channels, is to use the information already provided by YoutTube on Data API. This makes it easier since it serves as a guide to request YouTube data.\n",
    "\n",
    "Part of this meant to use my API key to gain access to this data."
   ]
  },
  {
   "cell_type": "code",
   "execution_count": 1,
   "id": "35c849e8",
   "metadata": {},
   "outputs": [],
   "source": [
    "# required package in order to use YouTube API\n",
    "from googleapiclient.discovery import build\n",
    "\n",
    "import pandas as pd\n",
    "import seaborn as sns\n",
    "import matplotlib.pyplot as plt\n",
    "from IPython.display import JSON"
   ]
  },
  {
   "cell_type": "code",
   "execution_count": 2,
   "id": "7106e95a",
   "metadata": {},
   "outputs": [],
   "source": [
    "api_key = '...'\n",
    "channel_ids = ['UCZ8TREbPfawhSvayVe5pqKg', #British Vogue\n",
    "              'UCn1qbwd476aiRH9d8RT5D0Q', #Vogue Japan\n",
    "              'UCLBMjQDJ5r8kbTrN1kev4dw', #Vogue Mexico y Latinoamerica\n",
    "              'UCh29s-RNWI6z63670hUv71Q', #Vogue India\n",
    "              'UCnTU3MvOqhKclQ6OpnsY87Q' #Vogue Australia\n",
    "              ]\n",
    "\n",
    "api_service_name = \"youtube\"\n",
    "api_version = \"v3\"\n",
    "youtube = build(api_service_name, api_version, developerKey=api_key)"
   ]
  },
  {
   "cell_type": "markdown",
   "id": "6c19d3ca",
   "metadata": {},
   "source": [
    "\n",
    "We are using some of the code already provided by Youtube Data API. However, since we are working with multiple Vogue channels, we want to retreive information from more than one source. This means we need to create a function to do that for us and why we imported the JSON function to be able to read the response that we get.\n",
    "\n",
    "Since the response contains all the info we want to use for this project and we are reviewing multiple channels, we essentially need to create a for loop so that we request the same items from the response for each Vogue channel. It is essential that we request the playlist id so that we can get all the video id's from the channel later on in our analysis. This way we can analyze the videos for a specific channel in more detail. \n",
    "\n",
    "Once we extract all the data we want from each channel, we can store this in a dictionary to use it for later. In this case we would end up with 5 dictionaries for the 5 channels we will be looking at. "
   ]
  },
  {
   "cell_type": "code",
   "execution_count": 3,
   "id": "13387812",
   "metadata": {},
   "outputs": [],
   "source": [
    "def scrape_channel(youtube, channel_ids):\n",
    "    all_data = []\n",
    "    request = youtube.channels().list(\n",
    "                part = 'snippet, contentDetails, statistics', \n",
    "                id = ','.join(channel_ids))\n",
    "    \n",
    "    response = request.execute()\n",
    "    #looping through items\n",
    "    for i in range(len(response['items'])):\n",
    "        data = dict(Channel_name = response['items'][i]['snippet']['title'],\n",
    "                   Subscribers = response['items'][i]['statistics']['subscriberCount'],\n",
    "                   Views = response['items'][i]['statistics']['viewCount'],\n",
    "                   Total_Videos = response['items'][i]['statistics']['videoCount'],\n",
    "                   playlist_id = response['items'][i]['contentDetails']['relatedPlaylists']['uploads'])\n",
    "        all_data.append(data)\n",
    "\n",
    "    return pd.DataFrame(all_data)\n"
   ]
  },
  {
   "cell_type": "code",
   "execution_count": 4,
   "id": "16765036",
   "metadata": {},
   "outputs": [],
   "source": [
    "channel_statistics = scrape_channel(youtube, channel_ids)"
   ]
  },
  {
   "cell_type": "code",
   "execution_count": 5,
   "id": "015a156c",
   "metadata": {},
   "outputs": [
    {
     "data": {
      "text/html": [
       "<div>\n",
       "<style scoped>\n",
       "    .dataframe tbody tr th:only-of-type {\n",
       "        vertical-align: middle;\n",
       "    }\n",
       "\n",
       "    .dataframe tbody tr th {\n",
       "        vertical-align: top;\n",
       "    }\n",
       "\n",
       "    .dataframe thead th {\n",
       "        text-align: right;\n",
       "    }\n",
       "</style>\n",
       "<table border=\"1\" class=\"dataframe\">\n",
       "  <thead>\n",
       "    <tr style=\"text-align: right;\">\n",
       "      <th></th>\n",
       "      <th>Channel_name</th>\n",
       "      <th>Subscribers</th>\n",
       "      <th>Views</th>\n",
       "      <th>Total_Videos</th>\n",
       "      <th>playlist_id</th>\n",
       "    </tr>\n",
       "  </thead>\n",
       "  <tbody>\n",
       "    <tr>\n",
       "      <th>0</th>\n",
       "      <td>British Vogue</td>\n",
       "      <td>1430000</td>\n",
       "      <td>367802010</td>\n",
       "      <td>736</td>\n",
       "      <td>UUZ8TREbPfawhSvayVe5pqKg</td>\n",
       "    </tr>\n",
       "    <tr>\n",
       "      <th>1</th>\n",
       "      <td>Vogue Australia</td>\n",
       "      <td>118000</td>\n",
       "      <td>34232006</td>\n",
       "      <td>540</td>\n",
       "      <td>UUnTU3MvOqhKclQ6OpnsY87Q</td>\n",
       "    </tr>\n",
       "    <tr>\n",
       "      <th>2</th>\n",
       "      <td>VOGUE JAPAN</td>\n",
       "      <td>1100000</td>\n",
       "      <td>401541503</td>\n",
       "      <td>1510</td>\n",
       "      <td>UUn1qbwd476aiRH9d8RT5D0Q</td>\n",
       "    </tr>\n",
       "    <tr>\n",
       "      <th>3</th>\n",
       "      <td>Vogue México y Latinoamérica</td>\n",
       "      <td>700000</td>\n",
       "      <td>131344280</td>\n",
       "      <td>1152</td>\n",
       "      <td>UULBMjQDJ5r8kbTrN1kev4dw</td>\n",
       "    </tr>\n",
       "    <tr>\n",
       "      <th>4</th>\n",
       "      <td>VOGUE India</td>\n",
       "      <td>613000</td>\n",
       "      <td>183611466</td>\n",
       "      <td>1159</td>\n",
       "      <td>UUh29s-RNWI6z63670hUv71Q</td>\n",
       "    </tr>\n",
       "  </tbody>\n",
       "</table>\n",
       "</div>"
      ],
      "text/plain": [
       "                   Channel_name Subscribers      Views Total_Videos  \\\n",
       "0                 British Vogue     1430000  367802010          736   \n",
       "1               Vogue Australia      118000   34232006          540   \n",
       "2                   VOGUE JAPAN     1100000  401541503         1510   \n",
       "3  Vogue México y Latinoamérica      700000  131344280         1152   \n",
       "4                   VOGUE India      613000  183611466         1159   \n",
       "\n",
       "                playlist_id  \n",
       "0  UUZ8TREbPfawhSvayVe5pqKg  \n",
       "1  UUnTU3MvOqhKclQ6OpnsY87Q  \n",
       "2  UUn1qbwd476aiRH9d8RT5D0Q  \n",
       "3  UULBMjQDJ5r8kbTrN1kev4dw  \n",
       "4  UUh29s-RNWI6z63670hUv71Q  "
      ]
     },
     "execution_count": 5,
     "metadata": {},
     "output_type": "execute_result"
    }
   ],
   "source": [
    "channel_statistics"
   ]
  },
  {
   "cell_type": "code",
   "execution_count": 6,
   "id": "f7452f2a",
   "metadata": {},
   "outputs": [
    {
     "data": {
      "text/plain": [
       "Channel_name    object\n",
       "Subscribers      int64\n",
       "Views            int64\n",
       "Total_Videos     int64\n",
       "playlist_id     object\n",
       "dtype: object"
      ]
     },
     "execution_count": 6,
     "metadata": {},
     "output_type": "execute_result"
    }
   ],
   "source": [
    "# checking data types of our variables so we'll be able to use for analysis\n",
    "channel_statistics['Subscribers'] = pd.to_numeric(channel_statistics['Subscribers'])\n",
    "channel_statistics['Views'] = pd.to_numeric(channel_statistics['Views'])\n",
    "channel_statistics['Total_Videos'] = pd.to_numeric(channel_statistics['Total_Videos'])\n",
    "channel_statistics.dtypes"
   ]
  },
  {
   "cell_type": "code",
   "execution_count": 7,
   "id": "4901a382",
   "metadata": {},
   "outputs": [
    {
     "data": {
      "image/png": "[encoded data removed]",
      "text/plain": [
       "<Figure size 720x576 with 1 Axes>"
      ]
     },
     "metadata": {},
     "output_type": "display_data"
    }
   ],
   "source": [
    "sns.set(rc={'figure.figsize': (10, 8)})\n",
    "ax = sns.barplot(y='Channel_name', x='Subscribers', data=channel_statistics)\n",
    "\n",
    "# Set labels and title\n",
    "ax.set_ylabel('Channel Name')\n",
    "ax.set_xlabel('Number of Subscribers')\n",
    "ax.set_title('Subscribers by Channel')\n",
    "\n",
    "plt.show()"
   ]
  },
  {
   "cell_type": "code",
   "execution_count": 8,
   "id": "7344db1b",
   "metadata": {},
   "outputs": [
    {
     "data": {
      "image/png": "[encoded data removed]",
      "text/plain": [
       "<Figure size 720x576 with 1 Axes>"
      ]
     },
     "metadata": {},
     "output_type": "display_data"
    }
   ],
   "source": [
    "ax = sns.barplot(y = \"Channel_name\", x = 'Views', data = channel_statistics)\n",
    "ax.set_ylabel('Channel Name')\n",
    "ax.set_xlabel('Views')\n",
    "ax.set_title('Views by Channel')\n",
    "\n",
    "plt.show()"
   ]
  },
  {
   "cell_type": "code",
   "execution_count": 9,
   "id": "a3cc3053",
   "metadata": {},
   "outputs": [
    {
     "data": {
      "image/png": "[encoded data removed]",
      "text/plain": [
       "<Figure size 720x576 with 1 Axes>"
      ]
     },
     "metadata": {},
     "output_type": "display_data"
    }
   ],
   "source": [
    "ax = sns.barplot(y = \"Channel_name\", x = 'Total_Videos', data = channel_statistics)\n",
    "ax.set_ylabel('Channel Name')\n",
    "ax.set_xlabel('Total Videos')\n",
    "ax.set_title('Total Videos by Channel')\n",
    "\n",
    "plt.show()"
   ]
  },
  {
   "cell_type": "markdown",
   "id": "7b49a6b8",
   "metadata": {},
   "source": [
    "## Observation\n",
    "At first glance, one might expect a strong correlation between the number of subscribers and the number of views. However, the bar plot reveals an interesting pattern. We can see that even though British Vogue has more subscribers than Vogue Japan, the total number of views for the Vogue Japan channel surpasses that of British Vogue. One thing to consider is the amount of videos produced by each Vogue channel which is what the \"Total Videos by Channel\" bar chart tells us. As we can see, Vogue Japan has the most amount of videos which can explain why it is the channel with the most amount of views. Additonally, the content strategy of each Vogue channel could also contribute to the differences in views. The types of videos produced, their topics, styles, and relevance to the target audience can all have an influence. Vogue Japan's content strategy might resonate more strongly with its viewers, leading to a higher level of engagement and views compared to British Vogue. Furthermore, considering that each channel represents a specific region or country, it's important to recognize that location and cultural preferences can all play a role in viewership. Among all channels, Vogue Australia seems to be the lowest performing form across amount of views, subscribers, and videos. This can be due to the time period in which the Vogue Australia channel was created which means it may be a younger channel. Moreover, its relatively smaller population compared to countries like the United States, India, or Japan can also account for its numbers across these categories. Overall, Vogue Japan and British Vogue seem to be the most popular Vogue channels, with Vogue Japan having higher values for 2/3 of the variables. Thus, it can be considered the most popular out of the 5 channels.\n",
    "\n",
    "## Function to Get Video ID's"
   ]
  },
  {
   "cell_type": "code",
   "execution_count": 10,
   "id": "8139e3f8",
   "metadata": {},
   "outputs": [
    {
     "data": {
      "text/html": [
       "<div>\n",
       "<style scoped>\n",
       "    .dataframe tbody tr th:only-of-type {\n",
       "        vertical-align: middle;\n",
       "    }\n",
       "\n",
       "    .dataframe tbody tr th {\n",
       "        vertical-align: top;\n",
       "    }\n",
       "\n",
       "    .dataframe thead th {\n",
       "        text-align: right;\n",
       "    }\n",
       "</style>\n",
       "<table border=\"1\" class=\"dataframe\">\n",
       "  <thead>\n",
       "    <tr style=\"text-align: right;\">\n",
       "      <th></th>\n",
       "      <th>Channel_name</th>\n",
       "      <th>Subscribers</th>\n",
       "      <th>Views</th>\n",
       "      <th>Total_Videos</th>\n",
       "      <th>playlist_id</th>\n",
       "    </tr>\n",
       "  </thead>\n",
       "  <tbody>\n",
       "    <tr>\n",
       "      <th>0</th>\n",
       "      <td>British Vogue</td>\n",
       "      <td>1430000</td>\n",
       "      <td>367802010</td>\n",
       "      <td>736</td>\n",
       "      <td>UUZ8TREbPfawhSvayVe5pqKg</td>\n",
       "    </tr>\n",
       "    <tr>\n",
       "      <th>1</th>\n",
       "      <td>Vogue Australia</td>\n",
       "      <td>118000</td>\n",
       "      <td>34232006</td>\n",
       "      <td>540</td>\n",
       "      <td>UUnTU3MvOqhKclQ6OpnsY87Q</td>\n",
       "    </tr>\n",
       "    <tr>\n",
       "      <th>2</th>\n",
       "      <td>VOGUE JAPAN</td>\n",
       "      <td>1100000</td>\n",
       "      <td>401541503</td>\n",
       "      <td>1510</td>\n",
       "      <td>UUn1qbwd476aiRH9d8RT5D0Q</td>\n",
       "    </tr>\n",
       "    <tr>\n",
       "      <th>3</th>\n",
       "      <td>Vogue México y Latinoamérica</td>\n",
       "      <td>700000</td>\n",
       "      <td>131344280</td>\n",
       "      <td>1152</td>\n",
       "      <td>UULBMjQDJ5r8kbTrN1kev4dw</td>\n",
       "    </tr>\n",
       "    <tr>\n",
       "      <th>4</th>\n",
       "      <td>VOGUE India</td>\n",
       "      <td>613000</td>\n",
       "      <td>183611466</td>\n",
       "      <td>1159</td>\n",
       "      <td>UUh29s-RNWI6z63670hUv71Q</td>\n",
       "    </tr>\n",
       "  </tbody>\n",
       "</table>\n",
       "</div>"
      ],
      "text/plain": [
       "                   Channel_name  Subscribers      Views  Total_Videos  \\\n",
       "0                 British Vogue      1430000  367802010           736   \n",
       "1               Vogue Australia       118000   34232006           540   \n",
       "2                   VOGUE JAPAN      1100000  401541503          1510   \n",
       "3  Vogue México y Latinoamérica       700000  131344280          1152   \n",
       "4                   VOGUE India       613000  183611466          1159   \n",
       "\n",
       "                playlist_id  \n",
       "0  UUZ8TREbPfawhSvayVe5pqKg  \n",
       "1  UUnTU3MvOqhKclQ6OpnsY87Q  \n",
       "2  UUn1qbwd476aiRH9d8RT5D0Q  \n",
       "3  UULBMjQDJ5r8kbTrN1kev4dw  \n",
       "4  UUh29s-RNWI6z63670hUv71Q  "
      ]
     },
     "execution_count": 10,
     "metadata": {},
     "output_type": "execute_result"
    }
   ],
   "source": [
    "channel_statistics"
   ]
  },
  {
   "cell_type": "code",
   "execution_count": 11,
   "id": "231aa6e3",
   "metadata": {},
   "outputs": [],
   "source": [
    "playlist_id = channel_statistics.loc[channel_statistics['Channel_name'] == 'Vogue México y Latinoamérica', 'playlist_id'].iloc[0]"
   ]
  },
  {
   "cell_type": "code",
   "execution_count": 12,
   "id": "58956688",
   "metadata": {},
   "outputs": [
    {
     "data": {
      "text/plain": [
       "'UULBMjQDJ5r8kbTrN1kev4dw'"
      ]
     },
     "execution_count": 12,
     "metadata": {},
     "output_type": "execute_result"
    }
   ],
   "source": [
    "playlist_id"
   ]
  },
  {
   "cell_type": "code",
   "execution_count": 13,
   "id": "df745891",
   "metadata": {},
   "outputs": [],
   "source": [
    "def get_video_ids(youtube, playlist_id):\n",
    "    \n",
    "    request = youtube.playlistItems().list(\n",
    "                part = 'contentDetails',\n",
    "                playlistId = playlist_id,\n",
    "                maxResults = 50)\n",
    "    response = request.execute()\n",
    "    \n",
    "    video_ids = []\n",
    "    \n",
    "    for i in range(len(response['items'])):\n",
    "        video_ids.append(response['items'][i]['contentDetails']['videoId'])\n",
    "        \n",
    "    next_page_token = response.get('nextPageToken')\n",
    "    more_pages = True\n",
    "    \n",
    "    while more_pages:\n",
    "        if next_page_token is None:\n",
    "            more_pages = False\n",
    "        else: \n",
    "            request = youtube.playlistItems().list(\n",
    "                        part = 'contentDetails',\n",
    "                        playlistId = playlist_id,\n",
    "                        maxResults = 50,\n",
    "                        pageToken = next_page_token)\n",
    "            response = request.execute()\n",
    "            \n",
    "            for i in range(len(response['items'])):\n",
    "                video_ids.append(response['items'][i]['contentDetails']['videoId'])\n",
    "            \n",
    "            next_page_token = response.get('nextPageToken')\n",
    "        \n",
    "    return video_ids"
   ]
  },
  {
   "cell_type": "markdown",
   "id": "c3a7db5d",
   "metadata": {},
   "source": [
    "We needed to modify the function above to be able to get all video id's since the maxResults paramater can only go up to 50. Nonetheless, from the data above, each Vogue channel definitely has over 50 videos. In order to fix this issue, we can retrieve 50 video id's at a time over and over again until there are no more videos left. This explains the next_page_token parameter defined above."
   ]
  },
  {
   "cell_type": "code",
   "execution_count": 14,
   "id": "ee1f726d",
   "metadata": {},
   "outputs": [],
   "source": [
    "video_ids = get_video_ids(youtube, playlist_id)"
   ]
  },
  {
   "cell_type": "code",
   "execution_count": 15,
   "id": "f2f6f701",
   "metadata": {},
   "outputs": [
    {
     "data": {
      "text/plain": [
       "1153"
      ]
     },
     "execution_count": 15,
     "metadata": {},
     "output_type": "execute_result"
    }
   ],
   "source": [
    "len(video_ids) "
   ]
  },
  {
   "cell_type": "markdown",
   "id": "929e707a",
   "metadata": {},
   "source": [
    "## Function to get video details"
   ]
  },
  {
   "cell_type": "code",
   "execution_count": 16,
   "id": "2422a1c6",
   "metadata": {},
   "outputs": [],
   "source": [
    "def get_video_details(youtube, video_ids):\n",
    "    all_video_stats = []\n",
    "    \n",
    "    for i in range(0, len(video_ids), 50):\n",
    "        request = youtube.videos().list(\n",
    "                    part = 'snippet, statistics',\n",
    "                    id = ','.join(video_ids[i: i + 50]))\n",
    "        response = request.execute()\n",
    "\n",
    "        for video in response['items']:\n",
    "            video_stats = dict(Title = video['snippet']['title'],\n",
    "                               Published_date = video['snippet']['publishedAt'],\n",
    "                               Views = video['statistics']['viewCount'],\n",
    "                               Likes = video['statistics']['likeCount'],\n",
    "                               Comments = video['statistics']['commentCount']\n",
    "                              )\n",
    "            all_video_stats.append(video_stats)\n",
    "    \n",
    "    return pd.DataFrame(all_video_stats)"
   ]
  },
  {
   "cell_type": "code",
   "execution_count": 17,
   "id": "9ae3f9ed",
   "metadata": {},
   "outputs": [],
   "source": [
    "video_details = get_video_details(youtube, video_ids)"
   ]
  },
  {
   "cell_type": "code",
   "execution_count": 18,
   "id": "194070bc",
   "metadata": {},
   "outputs": [
    {
     "data": {
      "text/html": [
       "<div>\n",
       "<style scoped>\n",
       "    .dataframe tbody tr th:only-of-type {\n",
       "        vertical-align: middle;\n",
       "    }\n",
       "\n",
       "    .dataframe tbody tr th {\n",
       "        vertical-align: top;\n",
       "    }\n",
       "\n",
       "    .dataframe thead th {\n",
       "        text-align: right;\n",
       "    }\n",
       "</style>\n",
       "<table border=\"1\" class=\"dataframe\">\n",
       "  <thead>\n",
       "    <tr style=\"text-align: right;\">\n",
       "      <th></th>\n",
       "      <th>Title</th>\n",
       "      <th>Published_date</th>\n",
       "      <th>Views</th>\n",
       "      <th>Likes</th>\n",
       "      <th>Comments</th>\n",
       "    </tr>\n",
       "  </thead>\n",
       "  <tbody>\n",
       "    <tr>\n",
       "      <th>0</th>\n",
       "      <td>Sex and the City cumple 25 años</td>\n",
       "      <td>2023-06-27T00:00:24Z</td>\n",
       "      <td>312</td>\n",
       "      <td>20</td>\n",
       "      <td>0</td>\n",
       "    </tr>\n",
       "    <tr>\n",
       "      <th>1</th>\n",
       "      <td>Maluma se prepara para el desfile de Louis Vui...</td>\n",
       "      <td>2023-06-26T17:16:42Z</td>\n",
       "      <td>598</td>\n",
       "      <td>43</td>\n",
       "      <td>3</td>\n",
       "    </tr>\n",
       "    <tr>\n",
       "      <th>2</th>\n",
       "      <td>Looks para #pride 🏳️‍🌈</td>\n",
       "      <td>2023-06-24T21:00:16Z</td>\n",
       "      <td>689</td>\n",
       "      <td>23</td>\n",
       "      <td>0</td>\n",
       "    </tr>\n",
       "    <tr>\n",
       "      <th>3</th>\n",
       "      <td>El secreto de una chica trans 🏳️‍🌈 #pride</td>\n",
       "      <td>2023-06-24T18:00:12Z</td>\n",
       "      <td>1118</td>\n",
       "      <td>41</td>\n",
       "      <td>3</td>\n",
       "    </tr>\n",
       "    <tr>\n",
       "      <th>4</th>\n",
       "      <td>Maluma se prepara para el desfile de Louis Vui...</td>\n",
       "      <td>2023-06-23T21:51:44Z</td>\n",
       "      <td>26132</td>\n",
       "      <td>272</td>\n",
       "      <td>16</td>\n",
       "    </tr>\n",
       "    <tr>\n",
       "      <th>...</th>\n",
       "      <td>...</td>\n",
       "      <td>...</td>\n",
       "      <td>...</td>\n",
       "      <td>...</td>\n",
       "      <td>...</td>\n",
       "    </tr>\n",
       "    <tr>\n",
       "      <th>1148</th>\n",
       "      <td>#EnMexicoCon Paula Mendoza</td>\n",
       "      <td>2015-01-27T15:15:56Z</td>\n",
       "      <td>1305</td>\n",
       "      <td>9</td>\n",
       "      <td>0</td>\n",
       "    </tr>\n",
       "    <tr>\n",
       "      <th>1149</th>\n",
       "      <td>Fashion’s Night Out 2014</td>\n",
       "      <td>2014-12-12T17:51:40Z</td>\n",
       "      <td>190</td>\n",
       "      <td>6</td>\n",
       "      <td>0</td>\n",
       "    </tr>\n",
       "    <tr>\n",
       "      <th>1150</th>\n",
       "      <td>Felicitaciones Aniversario Vogue 15</td>\n",
       "      <td>2014-10-21T06:06:33Z</td>\n",
       "      <td>363</td>\n",
       "      <td>10</td>\n",
       "      <td>0</td>\n",
       "    </tr>\n",
       "    <tr>\n",
       "      <th>1151</th>\n",
       "      <td>Luxury day by Land Rover</td>\n",
       "      <td>2014-09-05T14:06:19Z</td>\n",
       "      <td>336</td>\n",
       "      <td>9</td>\n",
       "      <td>1</td>\n",
       "    </tr>\n",
       "    <tr>\n",
       "      <th>1152</th>\n",
       "      <td>Motel unplugged</td>\n",
       "      <td>2014-09-05T13:30:12Z</td>\n",
       "      <td>3549</td>\n",
       "      <td>47</td>\n",
       "      <td>4</td>\n",
       "    </tr>\n",
       "  </tbody>\n",
       "</table>\n",
       "<p>1153 rows × 5 columns</p>\n",
       "</div>"
      ],
      "text/plain": [
       "                                                  Title        Published_date  \\\n",
       "0                       Sex and the City cumple 25 años  2023-06-27T00:00:24Z   \n",
       "1     Maluma se prepara para el desfile de Louis Vui...  2023-06-26T17:16:42Z   \n",
       "2                                Looks para #pride 🏳️‍🌈  2023-06-24T21:00:16Z   \n",
       "3             El secreto de una chica trans 🏳️‍🌈 #pride  2023-06-24T18:00:12Z   \n",
       "4     Maluma se prepara para el desfile de Louis Vui...  2023-06-23T21:51:44Z   \n",
       "...                                                 ...                   ...   \n",
       "1148                         #EnMexicoCon Paula Mendoza  2015-01-27T15:15:56Z   \n",
       "1149                           Fashion’s Night Out 2014  2014-12-12T17:51:40Z   \n",
       "1150                Felicitaciones Aniversario Vogue 15  2014-10-21T06:06:33Z   \n",
       "1151                           Luxury day by Land Rover  2014-09-05T14:06:19Z   \n",
       "1152                                    Motel unplugged  2014-09-05T13:30:12Z   \n",
       "\n",
       "      Views Likes Comments  \n",
       "0       312    20        0  \n",
       "1       598    43        3  \n",
       "2       689    23        0  \n",
       "3      1118    41        3  \n",
       "4     26132   272       16  \n",
       "...     ...   ...      ...  \n",
       "1148   1305     9        0  \n",
       "1149    190     6        0  \n",
       "1150    363    10        0  \n",
       "1151    336     9        1  \n",
       "1152   3549    47        4  \n",
       "\n",
       "[1153 rows x 5 columns]"
      ]
     },
     "execution_count": 18,
     "metadata": {},
     "output_type": "execute_result"
    }
   ],
   "source": [
    "video_details"
   ]
  },
  {
   "cell_type": "code",
   "execution_count": 19,
   "id": "3bbea5a4",
   "metadata": {},
   "outputs": [
    {
     "data": {
      "text/html": [
       "<div>\n",
       "<style scoped>\n",
       "    .dataframe tbody tr th:only-of-type {\n",
       "        vertical-align: middle;\n",
       "    }\n",
       "\n",
       "    .dataframe tbody tr th {\n",
       "        vertical-align: top;\n",
       "    }\n",
       "\n",
       "    .dataframe thead th {\n",
       "        text-align: right;\n",
       "    }\n",
       "</style>\n",
       "<table border=\"1\" class=\"dataframe\">\n",
       "  <thead>\n",
       "    <tr style=\"text-align: right;\">\n",
       "      <th></th>\n",
       "      <th>Title</th>\n",
       "      <th>Published_date</th>\n",
       "      <th>Views</th>\n",
       "      <th>Likes</th>\n",
       "      <th>Comments</th>\n",
       "    </tr>\n",
       "  </thead>\n",
       "  <tbody>\n",
       "    <tr>\n",
       "      <th>0</th>\n",
       "      <td>Sex and the City cumple 25 años</td>\n",
       "      <td>2023-06-27</td>\n",
       "      <td>312</td>\n",
       "      <td>20</td>\n",
       "      <td>0</td>\n",
       "    </tr>\n",
       "    <tr>\n",
       "      <th>1</th>\n",
       "      <td>Maluma se prepara para el desfile de Louis Vui...</td>\n",
       "      <td>2023-06-26</td>\n",
       "      <td>598</td>\n",
       "      <td>43</td>\n",
       "      <td>3</td>\n",
       "    </tr>\n",
       "    <tr>\n",
       "      <th>2</th>\n",
       "      <td>Looks para #pride 🏳️‍🌈</td>\n",
       "      <td>2023-06-24</td>\n",
       "      <td>689</td>\n",
       "      <td>23</td>\n",
       "      <td>0</td>\n",
       "    </tr>\n",
       "    <tr>\n",
       "      <th>3</th>\n",
       "      <td>El secreto de una chica trans 🏳️‍🌈 #pride</td>\n",
       "      <td>2023-06-24</td>\n",
       "      <td>1118</td>\n",
       "      <td>41</td>\n",
       "      <td>3</td>\n",
       "    </tr>\n",
       "    <tr>\n",
       "      <th>4</th>\n",
       "      <td>Maluma se prepara para el desfile de Louis Vui...</td>\n",
       "      <td>2023-06-23</td>\n",
       "      <td>26132</td>\n",
       "      <td>272</td>\n",
       "      <td>16</td>\n",
       "    </tr>\n",
       "    <tr>\n",
       "      <th>...</th>\n",
       "      <td>...</td>\n",
       "      <td>...</td>\n",
       "      <td>...</td>\n",
       "      <td>...</td>\n",
       "      <td>...</td>\n",
       "    </tr>\n",
       "    <tr>\n",
       "      <th>1148</th>\n",
       "      <td>#EnMexicoCon Paula Mendoza</td>\n",
       "      <td>2015-01-27</td>\n",
       "      <td>1305</td>\n",
       "      <td>9</td>\n",
       "      <td>0</td>\n",
       "    </tr>\n",
       "    <tr>\n",
       "      <th>1149</th>\n",
       "      <td>Fashion’s Night Out 2014</td>\n",
       "      <td>2014-12-12</td>\n",
       "      <td>190</td>\n",
       "      <td>6</td>\n",
       "      <td>0</td>\n",
       "    </tr>\n",
       "    <tr>\n",
       "      <th>1150</th>\n",
       "      <td>Felicitaciones Aniversario Vogue 15</td>\n",
       "      <td>2014-10-21</td>\n",
       "      <td>363</td>\n",
       "      <td>10</td>\n",
       "      <td>0</td>\n",
       "    </tr>\n",
       "    <tr>\n",
       "      <th>1151</th>\n",
       "      <td>Luxury day by Land Rover</td>\n",
       "      <td>2014-09-05</td>\n",
       "      <td>336</td>\n",
       "      <td>9</td>\n",
       "      <td>1</td>\n",
       "    </tr>\n",
       "    <tr>\n",
       "      <th>1152</th>\n",
       "      <td>Motel unplugged</td>\n",
       "      <td>2014-09-05</td>\n",
       "      <td>3549</td>\n",
       "      <td>47</td>\n",
       "      <td>4</td>\n",
       "    </tr>\n",
       "  </tbody>\n",
       "</table>\n",
       "<p>1153 rows × 5 columns</p>\n",
       "</div>"
      ],
      "text/plain": [
       "                                                  Title Published_date  Views  \\\n",
       "0                       Sex and the City cumple 25 años     2023-06-27    312   \n",
       "1     Maluma se prepara para el desfile de Louis Vui...     2023-06-26    598   \n",
       "2                                Looks para #pride 🏳️‍🌈     2023-06-24    689   \n",
       "3             El secreto de una chica trans 🏳️‍🌈 #pride     2023-06-24   1118   \n",
       "4     Maluma se prepara para el desfile de Louis Vui...     2023-06-23  26132   \n",
       "...                                                 ...            ...    ...   \n",
       "1148                         #EnMexicoCon Paula Mendoza     2015-01-27   1305   \n",
       "1149                           Fashion’s Night Out 2014     2014-12-12    190   \n",
       "1150                Felicitaciones Aniversario Vogue 15     2014-10-21    363   \n",
       "1151                           Luxury day by Land Rover     2014-09-05    336   \n",
       "1152                                    Motel unplugged     2014-09-05   3549   \n",
       "\n",
       "      Likes  Comments  \n",
       "0        20         0  \n",
       "1        43         3  \n",
       "2        23         0  \n",
       "3        41         3  \n",
       "4       272        16  \n",
       "...     ...       ...  \n",
       "1148      9         0  \n",
       "1149      6         0  \n",
       "1150     10         0  \n",
       "1151      9         1  \n",
       "1152     47         4  \n",
       "\n",
       "[1153 rows x 5 columns]"
      ]
     },
     "execution_count": 19,
     "metadata": {},
     "output_type": "execute_result"
    }
   ],
   "source": [
    "video_details['Published_date'] = pd.to_datetime(video_details['Published_date']).dt.date\n",
    "video_details['Views'] = pd.to_numeric(video_details['Views'])\n",
    "video_details['Likes'] = pd.to_numeric(video_details['Likes'])\n",
    "video_details['Comments'] = pd.to_numeric(video_details['Comments'])\n",
    "video_details"
   ]
  },
  {
   "cell_type": "code",
   "execution_count": 20,
   "id": "6d8783d2",
   "metadata": {},
   "outputs": [
    {
     "data": {
      "text/plain": [
       "Title             False\n",
       "Published_date    False\n",
       "Views             False\n",
       "Likes             False\n",
       "Comments          False\n",
       "dtype: bool"
      ]
     },
     "execution_count": 20,
     "metadata": {},
     "output_type": "execute_result"
    }
   ],
   "source": [
    "video_details.isnull().any()"
   ]
  },
  {
   "cell_type": "markdown",
   "id": "7f5f6abc",
   "metadata": {},
   "source": [
    "## What are the best performing videos for Vogue Mexico y Latinoamerica?"
   ]
  },
  {
   "cell_type": "code",
   "execution_count": 21,
   "id": "4eac8e07",
   "metadata": {},
   "outputs": [],
   "source": [
    "top10_videos = video_details.sort_values(by = 'Views', ascending = False).head(10)\n"
   ]
  },
  {
   "cell_type": "code",
   "execution_count": 22,
   "id": "382bf797",
   "metadata": {},
   "outputs": [
    {
     "data": {
      "text/html": [
       "<div>\n",
       "<style scoped>\n",
       "    .dataframe tbody tr th:only-of-type {\n",
       "        vertical-align: middle;\n",
       "    }\n",
       "\n",
       "    .dataframe tbody tr th {\n",
       "        vertical-align: top;\n",
       "    }\n",
       "\n",
       "    .dataframe thead th {\n",
       "        text-align: right;\n",
       "    }\n",
       "</style>\n",
       "<table border=\"1\" class=\"dataframe\">\n",
       "  <thead>\n",
       "    <tr style=\"text-align: right;\">\n",
       "      <th></th>\n",
       "      <th>Title</th>\n",
       "      <th>Published_date</th>\n",
       "      <th>Views</th>\n",
       "      <th>Likes</th>\n",
       "      <th>Comments</th>\n",
       "    </tr>\n",
       "  </thead>\n",
       "  <tbody>\n",
       "    <tr>\n",
       "      <th>345</th>\n",
       "      <td>Salma Hayek y su hija Valentina Paloma cuentan...</td>\n",
       "      <td>2022-05-09</td>\n",
       "      <td>8942816</td>\n",
       "      <td>206814</td>\n",
       "      <td>8718</td>\n",
       "    </tr>\n",
       "    <tr>\n",
       "      <th>465</th>\n",
       "      <td>Anya Taylor-Joy hablando español y lo que hay ...</td>\n",
       "      <td>2021-09-17</td>\n",
       "      <td>4389080</td>\n",
       "      <td>222520</td>\n",
       "      <td>6493</td>\n",
       "    </tr>\n",
       "    <tr>\n",
       "      <th>531</th>\n",
       "      <td>La guía de Rosalía para un maquillaje de veran...</td>\n",
       "      <td>2021-06-11</td>\n",
       "      <td>2953117</td>\n",
       "      <td>100752</td>\n",
       "      <td>1911</td>\n",
       "    </tr>\n",
       "    <tr>\n",
       "      <th>43</th>\n",
       "      <td>Salma Hayek fue la mejor vestida de Cannes 1999</td>\n",
       "      <td>2023-05-17</td>\n",
       "      <td>2149052</td>\n",
       "      <td>129843</td>\n",
       "      <td>1143</td>\n",
       "    </tr>\n",
       "    <tr>\n",
       "      <th>631</th>\n",
       "      <td>Doja Cat muestra cómo conseguir un look de e-g...</td>\n",
       "      <td>2021-01-24</td>\n",
       "      <td>2112761</td>\n",
       "      <td>111748</td>\n",
       "      <td>1723</td>\n",
       "    </tr>\n",
       "    <tr>\n",
       "      <th>573</th>\n",
       "      <td>Alexa Demie es una experta en maquillaje de lo...</td>\n",
       "      <td>2021-04-14</td>\n",
       "      <td>2024442</td>\n",
       "      <td>94858</td>\n",
       "      <td>633</td>\n",
       "    </tr>\n",
       "    <tr>\n",
       "      <th>401</th>\n",
       "      <td>Eiza González confiesa TODO lo que guarda en s...</td>\n",
       "      <td>2022-01-26</td>\n",
       "      <td>1979377</td>\n",
       "      <td>63177</td>\n",
       "      <td>1933</td>\n",
       "    </tr>\n",
       "    <tr>\n",
       "      <th>513</th>\n",
       "      <td>Nicki Nicole muestra cómo le saca partido a su...</td>\n",
       "      <td>2021-07-07</td>\n",
       "      <td>1907490</td>\n",
       "      <td>107331</td>\n",
       "      <td>1939</td>\n",
       "    </tr>\n",
       "    <tr>\n",
       "      <th>85</th>\n",
       "      <td>Salma Hayek en la MET Gala 2023 con un vestido...</td>\n",
       "      <td>2023-05-02</td>\n",
       "      <td>1693849</td>\n",
       "      <td>55009</td>\n",
       "      <td>1235</td>\n",
       "    </tr>\n",
       "    <tr>\n",
       "      <th>478</th>\n",
       "      <td>María Becerra y la guía para cejas perfectas |...</td>\n",
       "      <td>2021-09-06</td>\n",
       "      <td>1689438</td>\n",
       "      <td>79998</td>\n",
       "      <td>2006</td>\n",
       "    </tr>\n",
       "  </tbody>\n",
       "</table>\n",
       "</div>"
      ],
      "text/plain": [
       "                                                 Title Published_date  \\\n",
       "345  Salma Hayek y su hija Valentina Paloma cuentan...     2022-05-09   \n",
       "465  Anya Taylor-Joy hablando español y lo que hay ...     2021-09-17   \n",
       "531  La guía de Rosalía para un maquillaje de veran...     2021-06-11   \n",
       "43     Salma Hayek fue la mejor vestida de Cannes 1999     2023-05-17   \n",
       "631  Doja Cat muestra cómo conseguir un look de e-g...     2021-01-24   \n",
       "573  Alexa Demie es una experta en maquillaje de lo...     2021-04-14   \n",
       "401  Eiza González confiesa TODO lo que guarda en s...     2022-01-26   \n",
       "513  Nicki Nicole muestra cómo le saca partido a su...     2021-07-07   \n",
       "85   Salma Hayek en la MET Gala 2023 con un vestido...     2023-05-02   \n",
       "478  María Becerra y la guía para cejas perfectas |...     2021-09-06   \n",
       "\n",
       "       Views   Likes  Comments  \n",
       "345  8942816  206814      8718  \n",
       "465  4389080  222520      6493  \n",
       "531  2953117  100752      1911  \n",
       "43   2149052  129843      1143  \n",
       "631  2112761  111748      1723  \n",
       "573  2024442   94858       633  \n",
       "401  1979377   63177      1933  \n",
       "513  1907490  107331      1939  \n",
       "85   1693849   55009      1235  \n",
       "478  1689438   79998      2006  "
      ]
     },
     "execution_count": 22,
     "metadata": {},
     "output_type": "execute_result"
    }
   ],
   "source": [
    "top10_videos"
   ]
  },
  {
   "cell_type": "code",
   "execution_count": 23,
   "id": "77e24901",
   "metadata": {},
   "outputs": [
    {
     "data": {
      "image/png": "[encoded data removed]",
      "text/plain": [
       "<Figure size 720x576 with 1 Axes>"
      ]
     },
     "metadata": {},
     "output_type": "display_data"
    }
   ],
   "source": [
    "ax1 = sns.barplot(x = 'Views', y = \"Title\", data = top10_videos)\n",
    "plt.title('Vogue México y Latinoamérica')\n",
    "plt.show()"
   ]
  },
  {
   "cell_type": "markdown",
   "id": "9d3e1d8c",
   "metadata": {},
   "source": [
    "## Observation\n",
    "Among the best performing videos, measured by views, Salma Hayek is a reappearing figure. Her name is also part of one with less success. This can be due to the duration of the video since many people would prefer to watch longer videos of the actress to get to learn more about her than a shorter video where they may not engage much.   \n",
    "\n",
    "## What season gives us the highest number of videos?\n",
    "\n",
    "First we need to reorganize our data so that it'll be easier to interpret. We can sort the months in a specific order by creating a list of our own with the months."
   ]
  },
  {
   "cell_type": "code",
   "execution_count": 24,
   "id": "bca03770",
   "metadata": {},
   "outputs": [],
   "source": [
    "video_details['Month'] = pd.to_datetime(video_details['Published_date']).dt.strftime('%b')"
   ]
  },
  {
   "cell_type": "code",
   "execution_count": 25,
   "id": "00e3309e",
   "metadata": {},
   "outputs": [
    {
     "data": {
      "text/html": [
       "<div>\n",
       "<style scoped>\n",
       "    .dataframe tbody tr th:only-of-type {\n",
       "        vertical-align: middle;\n",
       "    }\n",
       "\n",
       "    .dataframe tbody tr th {\n",
       "        vertical-align: top;\n",
       "    }\n",
       "\n",
       "    .dataframe thead th {\n",
       "        text-align: right;\n",
       "    }\n",
       "</style>\n",
       "<table border=\"1\" class=\"dataframe\">\n",
       "  <thead>\n",
       "    <tr style=\"text-align: right;\">\n",
       "      <th></th>\n",
       "      <th>Title</th>\n",
       "      <th>Published_date</th>\n",
       "      <th>Views</th>\n",
       "      <th>Likes</th>\n",
       "      <th>Comments</th>\n",
       "      <th>Month</th>\n",
       "    </tr>\n",
       "  </thead>\n",
       "  <tbody>\n",
       "    <tr>\n",
       "      <th>0</th>\n",
       "      <td>Sex and the City cumple 25 años</td>\n",
       "      <td>2023-06-27</td>\n",
       "      <td>312</td>\n",
       "      <td>20</td>\n",
       "      <td>0</td>\n",
       "      <td>Jun</td>\n",
       "    </tr>\n",
       "    <tr>\n",
       "      <th>1</th>\n",
       "      <td>Maluma se prepara para el desfile de Louis Vui...</td>\n",
       "      <td>2023-06-26</td>\n",
       "      <td>598</td>\n",
       "      <td>43</td>\n",
       "      <td>3</td>\n",
       "      <td>Jun</td>\n",
       "    </tr>\n",
       "    <tr>\n",
       "      <th>2</th>\n",
       "      <td>Looks para #pride 🏳️‍🌈</td>\n",
       "      <td>2023-06-24</td>\n",
       "      <td>689</td>\n",
       "      <td>23</td>\n",
       "      <td>0</td>\n",
       "      <td>Jun</td>\n",
       "    </tr>\n",
       "    <tr>\n",
       "      <th>3</th>\n",
       "      <td>El secreto de una chica trans 🏳️‍🌈 #pride</td>\n",
       "      <td>2023-06-24</td>\n",
       "      <td>1118</td>\n",
       "      <td>41</td>\n",
       "      <td>3</td>\n",
       "      <td>Jun</td>\n",
       "    </tr>\n",
       "    <tr>\n",
       "      <th>4</th>\n",
       "      <td>Maluma se prepara para el desfile de Louis Vui...</td>\n",
       "      <td>2023-06-23</td>\n",
       "      <td>26132</td>\n",
       "      <td>272</td>\n",
       "      <td>16</td>\n",
       "      <td>Jun</td>\n",
       "    </tr>\n",
       "    <tr>\n",
       "      <th>...</th>\n",
       "      <td>...</td>\n",
       "      <td>...</td>\n",
       "      <td>...</td>\n",
       "      <td>...</td>\n",
       "      <td>...</td>\n",
       "      <td>...</td>\n",
       "    </tr>\n",
       "    <tr>\n",
       "      <th>1148</th>\n",
       "      <td>#EnMexicoCon Paula Mendoza</td>\n",
       "      <td>2015-01-27</td>\n",
       "      <td>1305</td>\n",
       "      <td>9</td>\n",
       "      <td>0</td>\n",
       "      <td>Jan</td>\n",
       "    </tr>\n",
       "    <tr>\n",
       "      <th>1149</th>\n",
       "      <td>Fashion’s Night Out 2014</td>\n",
       "      <td>2014-12-12</td>\n",
       "      <td>190</td>\n",
       "      <td>6</td>\n",
       "      <td>0</td>\n",
       "      <td>Dec</td>\n",
       "    </tr>\n",
       "    <tr>\n",
       "      <th>1150</th>\n",
       "      <td>Felicitaciones Aniversario Vogue 15</td>\n",
       "      <td>2014-10-21</td>\n",
       "      <td>363</td>\n",
       "      <td>10</td>\n",
       "      <td>0</td>\n",
       "      <td>Oct</td>\n",
       "    </tr>\n",
       "    <tr>\n",
       "      <th>1151</th>\n",
       "      <td>Luxury day by Land Rover</td>\n",
       "      <td>2014-09-05</td>\n",
       "      <td>336</td>\n",
       "      <td>9</td>\n",
       "      <td>1</td>\n",
       "      <td>Sep</td>\n",
       "    </tr>\n",
       "    <tr>\n",
       "      <th>1152</th>\n",
       "      <td>Motel unplugged</td>\n",
       "      <td>2014-09-05</td>\n",
       "      <td>3549</td>\n",
       "      <td>47</td>\n",
       "      <td>4</td>\n",
       "      <td>Sep</td>\n",
       "    </tr>\n",
       "  </tbody>\n",
       "</table>\n",
       "<p>1153 rows × 6 columns</p>\n",
       "</div>"
      ],
      "text/plain": [
       "                                                  Title Published_date  Views  \\\n",
       "0                       Sex and the City cumple 25 años     2023-06-27    312   \n",
       "1     Maluma se prepara para el desfile de Louis Vui...     2023-06-26    598   \n",
       "2                                Looks para #pride 🏳️‍🌈     2023-06-24    689   \n",
       "3             El secreto de una chica trans 🏳️‍🌈 #pride     2023-06-24   1118   \n",
       "4     Maluma se prepara para el desfile de Louis Vui...     2023-06-23  26132   \n",
       "...                                                 ...            ...    ...   \n",
       "1148                         #EnMexicoCon Paula Mendoza     2015-01-27   1305   \n",
       "1149                           Fashion’s Night Out 2014     2014-12-12    190   \n",
       "1150                Felicitaciones Aniversario Vogue 15     2014-10-21    363   \n",
       "1151                           Luxury day by Land Rover     2014-09-05    336   \n",
       "1152                                    Motel unplugged     2014-09-05   3549   \n",
       "\n",
       "      Likes  Comments Month  \n",
       "0        20         0   Jun  \n",
       "1        43         3   Jun  \n",
       "2        23         0   Jun  \n",
       "3        41         3   Jun  \n",
       "4       272        16   Jun  \n",
       "...     ...       ...   ...  \n",
       "1148      9         0   Jan  \n",
       "1149      6         0   Dec  \n",
       "1150     10         0   Oct  \n",
       "1151      9         1   Sep  \n",
       "1152     47         4   Sep  \n",
       "\n",
       "[1153 rows x 6 columns]"
      ]
     },
     "execution_count": 25,
     "metadata": {},
     "output_type": "execute_result"
    }
   ],
   "source": [
    "video_details"
   ]
  },
  {
   "cell_type": "code",
   "execution_count": 26,
   "id": "653e0f61",
   "metadata": {},
   "outputs": [],
   "source": [
    "videos_per_month = video_details.groupby('Month', as_index = False).size()"
   ]
  },
  {
   "cell_type": "code",
   "execution_count": 27,
   "id": "0281360b",
   "metadata": {},
   "outputs": [
    {
     "data": {
      "text/html": [
       "<div>\n",
       "<style scoped>\n",
       "    .dataframe tbody tr th:only-of-type {\n",
       "        vertical-align: middle;\n",
       "    }\n",
       "\n",
       "    .dataframe tbody tr th {\n",
       "        vertical-align: top;\n",
       "    }\n",
       "\n",
       "    .dataframe thead th {\n",
       "        text-align: right;\n",
       "    }\n",
       "</style>\n",
       "<table border=\"1\" class=\"dataframe\">\n",
       "  <thead>\n",
       "    <tr style=\"text-align: right;\">\n",
       "      <th></th>\n",
       "      <th>Month</th>\n",
       "      <th>size</th>\n",
       "    </tr>\n",
       "  </thead>\n",
       "  <tbody>\n",
       "    <tr>\n",
       "      <th>0</th>\n",
       "      <td>Apr</td>\n",
       "      <td>87</td>\n",
       "    </tr>\n",
       "    <tr>\n",
       "      <th>1</th>\n",
       "      <td>Aug</td>\n",
       "      <td>94</td>\n",
       "    </tr>\n",
       "    <tr>\n",
       "      <th>2</th>\n",
       "      <td>Dec</td>\n",
       "      <td>100</td>\n",
       "    </tr>\n",
       "    <tr>\n",
       "      <th>3</th>\n",
       "      <td>Feb</td>\n",
       "      <td>77</td>\n",
       "    </tr>\n",
       "    <tr>\n",
       "      <th>4</th>\n",
       "      <td>Jan</td>\n",
       "      <td>83</td>\n",
       "    </tr>\n",
       "    <tr>\n",
       "      <th>5</th>\n",
       "      <td>Jul</td>\n",
       "      <td>73</td>\n",
       "    </tr>\n",
       "    <tr>\n",
       "      <th>6</th>\n",
       "      <td>Jun</td>\n",
       "      <td>86</td>\n",
       "    </tr>\n",
       "    <tr>\n",
       "      <th>7</th>\n",
       "      <td>Mar</td>\n",
       "      <td>88</td>\n",
       "    </tr>\n",
       "    <tr>\n",
       "      <th>8</th>\n",
       "      <td>May</td>\n",
       "      <td>146</td>\n",
       "    </tr>\n",
       "    <tr>\n",
       "      <th>9</th>\n",
       "      <td>Nov</td>\n",
       "      <td>98</td>\n",
       "    </tr>\n",
       "    <tr>\n",
       "      <th>10</th>\n",
       "      <td>Oct</td>\n",
       "      <td>131</td>\n",
       "    </tr>\n",
       "    <tr>\n",
       "      <th>11</th>\n",
       "      <td>Sep</td>\n",
       "      <td>90</td>\n",
       "    </tr>\n",
       "  </tbody>\n",
       "</table>\n",
       "</div>"
      ],
      "text/plain": [
       "   Month  size\n",
       "0    Apr    87\n",
       "1    Aug    94\n",
       "2    Dec   100\n",
       "3    Feb    77\n",
       "4    Jan    83\n",
       "5    Jul    73\n",
       "6    Jun    86\n",
       "7    Mar    88\n",
       "8    May   146\n",
       "9    Nov    98\n",
       "10   Oct   131\n",
       "11   Sep    90"
      ]
     },
     "execution_count": 27,
     "metadata": {},
     "output_type": "execute_result"
    }
   ],
   "source": [
    "videos_per_month"
   ]
  },
  {
   "cell_type": "code",
   "execution_count": 28,
   "id": "f0d97b94",
   "metadata": {},
   "outputs": [],
   "source": [
    "sort_order = ['Jan', 'Feb', 'Mar', 'Apr', 'May', 'Jun',\n",
    "              'Jul', 'Aug', 'Sep', 'Oct', 'Nov', 'Dec']"
   ]
  },
  {
   "cell_type": "code",
   "execution_count": 29,
   "id": "8f02cce3",
   "metadata": {},
   "outputs": [],
   "source": [
    "videos_per_month.index = pd.CategoricalIndex(videos_per_month['Month'], categories = sort_order, ordered = True)"
   ]
  },
  {
   "cell_type": "code",
   "execution_count": 30,
   "id": "9f48d5ec",
   "metadata": {},
   "outputs": [],
   "source": [
    "videos_per_month = videos_per_month.sort_index()"
   ]
  },
  {
   "cell_type": "code",
   "execution_count": 31,
   "id": "b479d126",
   "metadata": {},
   "outputs": [
    {
     "data": {
      "image/png": "[encoded data removed]",
      "text/plain": [
       "<Figure size 720x576 with 1 Axes>"
      ]
     },
     "metadata": {},
     "output_type": "display_data"
    }
   ],
   "source": [
    "ax2 = sns.barplot(x = 'Month', y = 'size', data = videos_per_month)\n",
    "plt.ylabel('Number of Videos')\n",
    "plt.title('Vogue México y Latinoamérica')\n",
    "plt.show()"
   ]
  },
  {
   "cell_type": "markdown",
   "id": "40975c1e",
   "metadata": {},
   "source": [
    "## Observation\n",
    "From the bar chart, Vogue México y Latinoamérica produced the most amount of videos in the months of May and October. This observation suggests that there might have been special events, promotions, or content releases during those months that led to increased video production. In fact, May and October might correspond to seasons or events that are particularly relevant to the fashion industry. For example, May could be associated with spring fashion collections or fashion weeks, while October might be linked to fall/winter collections.\n",
    "\n",
    "## What is the relationship between views, likes, and comments?"
   ]
  },
  {
   "cell_type": "code",
   "execution_count": 44,
   "id": "1e49afd6",
   "metadata": {},
   "outputs": [
    {
     "data": {
      "image/png": "[encoded data removed]",
      "text/plain": [
       "<Figure size 1440x360 with 3 Axes>"
      ]
     },
     "metadata": {},
     "output_type": "display_data"
    }
   ],
   "source": [
    "fig, ax = plt.subplots(1, 3, figsize=(20, 5))\n",
    "\n",
    "sns.scatterplot(data = video_details, x = 'Comments', y = 'Views', ax = ax[0], color = 'blue')\n",
    "sns.regplot(data=video_details, x='Comments', y='Views', ax=ax[0], color='blue')\n",
    "\n",
    "sns.scatterplot(data = video_details, x = 'Likes', y = 'Views', ax = ax[1], color = 'green')\n",
    "sns.regplot(data=video_details, x='Likes', y='Views', ax=ax[1], color='green')\n",
    "\n",
    "sns.scatterplot(data = video_details, x = 'Comments', y = 'Likes', ax = ax[2], color = 'purple')\n",
    "sns.regplot(data=video_details, x='Comments', y='Likes', ax=ax[2], color='purple')\n",
    "\n",
    "plt.suptitle('Vogue México y Latinoamérica', fontsize=16, fontweight='bold')\n",
    "\n",
    "plt.show()"
   ]
  },
  {
   "cell_type": "markdown",
   "id": "217496a8",
   "metadata": {},
   "source": [
    "## Observation\n",
    "\n",
    "We can definitely see a positive correlation among all three of these comparisons. Intuitively, this makes sense since a high number of likes on a video is indicative of higher popularity, leading to more views for that video. The same logic applies to views vs. comments. The strongest correlation seems to be likes vs. comments. This observation indicates that user engagement, in the form of both likes and comments, is closely linked. When a video receives a high number of likes, it often indicates that viewers find the content engaging or enjoyable. This positive response may encourage viewers to leave comments expressing their thoughts, opinions, or reactions to the video. Additionally, videos that generate a lot of discussion through comments may attract more attention from viewers, leading to a higher number of likes.\n",
    "\n",
    "There are some other factors we need to consider. Our analysis focuses on quantitative metrics (views, likes, and comments), but it may not capture the full context of the videos and their content. Qualitative factors such as video quality, creativity, relevance, and audience preferences are not considered which probably have a significant influence on the views and comments certain videos get."
   ]
  },
  {
   "cell_type": "code",
   "execution_count": 42,
   "id": "ae3f41fc",
   "metadata": {},
   "outputs": [
    {
     "data": {
      "image/png": "[encoded data removed]",
      "text/plain": [
       "<Figure size 720x576 with 2 Axes>"
      ]
     },
     "metadata": {},
     "output_type": "display_data"
    }
   ],
   "source": [
    "# Using the 'method' parameter to specify the correlation method\n",
    "correlation_matrix = video_details.corr(method='pearson')  # Pearson correlation coefficient (default)\n",
    "\n",
    "sns.heatmap(correlation_matrix, annot=True, cmap='viridis')\n",
    "\n",
    "# Set the title of the heatmap\n",
    "plt.title('Correlation Matrix')\n",
    "\n",
    "# Display the heatmap\n",
    "plt.show()"
   ]
  },
  {
   "cell_type": "markdown",
   "id": "1b1807e8",
   "metadata": {},
   "source": [
    "## Observation\n",
    "\n",
    "Although it seems that the correlation between likes and comments seemed to be the highest from the scatter plot, a closer analysis using the correlation matrix tells us that the highest correlation is actually between views and likes. This discrepancy emphasizes the importance of considering multiple data visualization techniques and statistical analyses to gain a better understanding of the relationships between variables. In fact, the scale of the variables in the plots can lead to misinterpretations of the data. We see that views is on a much larger scale than likes which makes it seem that the 'Views vs. Likes' scatter plot has a line of best fit that has a slightly less positive slope than 'Likes vs. Comments'. \n",
    "\n",
    "## Conclusion\n",
    "\n",
    "While our data analysis provides valuable insights into Vogue channels, it is important to acknowledge some limitations. First, our analysis relies on data obtained from the YouTube Data API, which is subject to potential inaccuracies in the data provided by the API itself. Variations in data reporting, potential delays in updating information for each Vogue channel, or discrepancies in subscriber counts could introduce some level of uncertainty. Furthermore, factors such as the quality of content, audience demographics, and external influences are not explicitly accounted for in our analysis. Also, our analysis focuses on a specific set of Vogue channels and does not encompass the entire Vogue brand or other related social media platforms.\n",
    "\n",
    "Additionally, it would have been interesting to analyze data on the audience of these channels. For example, the age group that tends to interact the most with Vogue's content, which is fashion and beauty focused. \n",
    "\n",
    "Of course, our analysis is based on a snapshot of data within a specific timeframe. The performance and dynamics of Vogue channels are subject to change, so our findings may not capture long-term trends in the channels' strategies or audience behavior.\n"
   ]
  },
  {
   "cell_type": "code",
   "execution_count": null,
   "id": "13665bed",
   "metadata": {},
   "outputs": [],
   "source": []
  }
 ],
 "metadata": {
  "kernelspec": {
   "display_name": "Python 3 (ipykernel)",
   "language": "python",
   "name": "python3"
  },
  "language_info": {
   "codemirror_mode": {
    "name": "ipython",
    "version": 3
   },
   "file_extension": ".py",
   "mimetype": "text/x-python",
   "name": "python",
   "nbconvert_exporter": "python",
   "pygments_lexer": "ipython3",
   "version": "3.9.12"
  }
 },
 "nbformat": 4,
 "nbformat_minor": 5
}
